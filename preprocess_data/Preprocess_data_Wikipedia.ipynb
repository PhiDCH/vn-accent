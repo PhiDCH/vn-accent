{
 "cells": [
  {
   "cell_type": "markdown",
   "metadata": {
    "id": "gpoZc5wzuHrd"
   },
   "source": [
    "## Tiền xử lý dữ liệu cho dữ liệu từ Wikipedia\r\n",
    "\r\n",
    "- https://github.com/VNOpenAI/vn-accent\r\n",
    "\r\n",
    "- Lấy dữ liệu đã xử lý tại: https://phamdinhkhanh.github.io/2020/05/28/TransformerThemDauTV.html"
   ]
  },
  {
   "cell_type": "code",
   "execution_count": 1,
   "metadata": {
    "colab": {
     "base_uri": "https://localhost:8080/"
    },
    "id": "z9-h72VjcBYo",
    "outputId": "8818ccf1-2105-4df6-936b-99c130cf26d8"
   },
   "outputs": [
    {
     "name": "stdout",
     "output_type": "stream",
     "text": [
      "Downloading...\n",
      "From: https://drive.google.com/uc?id=1-7lERkqCoID1691yCXLAOyZoJqYPqhGq\n",
      "To: /home/vietanhdev/Works/AIDr/vn-aidr/model_utils/vn_accent/preprocess_data/train_tieng_viet.txt\n",
      "776MB [03:08, 4.11MB/s] \n"
     ]
    }
   ],
   "source": [
    "!gdown --id \"1bEMOe2TooEuhmzRv16f4aouC5mNg3EOr\""
   ]
  },
  {
   "cell_type": "markdown",
   "metadata": {
    "id": "VQ7snyj1I2Od"
   },
   "source": [
    "## 1. Làm sạch dữ liệu"
   ]
  },
  {
   "cell_type": "code",
   "execution_count": 2,
   "metadata": {
    "colab": {
     "base_uri": "https://localhost:8080/"
    },
    "id": "tXJ1cwKzyu3b",
    "outputId": "bb3531d4-ddde-4f4f-86d6-205a10a59f8c"
   },
   "outputs": [
    {
     "name": "stdout",
     "output_type": "stream",
     "text": [
      "Trang Chính\n",
      "Internet Society\n",
      "Internet Society hay ISOC là một tổ chức quốc tế hoạt động phi lợi nhuận, phi chính phủ và bao gồm các thành viên có trình độ chuyên ngành. Tổ chức này chú trọng đến: tiêu chuẩn, giáo dục và các vấn đề về chính sách. Với trên 145 tổ chức thành viên và 65.000 thành viên cá nhân, ISOC bao gồm những con người cụ thể trong cộng đồng Internet. Mọi chi tiết có thể tìm thấy tại website của ISOC.\n",
      "Internet Society nằm ở gần thủ đô Washington, DC, Hoa Kỳ và Geneva, Thụy Sĩ. Số hội viên của nó bao gồm hơn 145 tổ chức thành viên và hơn 65.000 cá nhân. Thành viên còn có thể tự lập một chi nhánh của tổ chức tùy theo vị trí hoặc sở thích. Hiện nay tổ chức có tới 90 chi nhánh trên toàn thế giới.\n",
      "Bảo đảm, cổ vũ cho sự phát triển, mở rộng và sử dụng Internet được thuận lợi nhất cho mọi người trên toàn thế giới.\n",
      "Tiếng Việt\n",
      "Tiếng Việt được chính thức ghi nhận trong Hiến pháp nước Cộng hòa xã hội chủ nghĩa Việt Nam 2013, tại Chương I Điều 5 Mục 3, là ngôn ngữ quốc gia của Việt Nam . Tiếng Việt bao gồm cách phát âm tiếng Việt và chữ Quốc ngữ để viết. Tuy nhiên, hiện chưa có bất kỳ văn bản nào ở cấp nhà nước quy định \"giọng chuẩn\" và \"quốc tự\" của tiếng Việt . Hiện nay phần lớn các văn bản trong nước được viết theo những \"\"Quy định về chính tả tiếng Việt và về thuật ngữ tiếng Việt\" áp dụng cho các sách giáo khoa, báo và văn bản của ngành giáo dục\" nêu tại Quyết định của Bộ Giáo dục số 240/QĐ ngày 5 tháng 3 năm 1984 do những người thụ hưởng giáo dục đó sau này ra làm việc trong mọi lĩnh vực xã hội.\n",
      "Tiếng Việt cũng đã được công nhận là một ngôn ngữ dân tộc thiểu số tại Cộng hòa Séc.\n",
      "Tổ chức tiêu chuẩn hóa quốc tế đặt mã ngôn ngữ hai chữ cái cho tiếng Việt là \"vi\" (tiêu chuẩn ISO 639-1) và đặt mã ngôn ngữ ba chữ cái cho tiếng Việt là \"vie\" (tiêu chuẩn ISO 639-2) .\n",
      "Những ngôn ngữ này có chung một số từ vựng căn bản. Thí dụ, từ \"tay\" trong tiếng Việt tương đương trong tiếng Mường là \"thay\", trong tiếng Khmer là \"đay\" và trong tiếng Môn là \"tai\".\n",
      "3624432\n"
     ]
    }
   ],
   "source": [
    "with open('raw_wikipedia.txt', 'r', encoding='utf-8') as f:\n",
    "    data = f.readlines()\n",
    "for i in range(len(data)):\n",
    "    data[i] = data[i].split(\"\\t\")[1].strip()\n",
    "print(\"\\n\".join(data[:10]))\n",
    "print(len(data))"
   ]
  },
  {
   "cell_type": "code",
   "execution_count": 3,
   "metadata": {
    "colab": {
     "base_uri": "https://localhost:8080/"
    },
    "id": "dlConB6IzqzC",
    "outputId": "94b7efa7-20e5-4d69-af0f-3f0916a817af"
   },
   "outputs": [
    {
     "name": "stdout",
     "output_type": "stream",
     "text": [
      "Trang Chính\n",
      "Internet Society\n",
      "Internet Society hay ISOC là một tổ chức quốc tế hoạt động phi lợi nhuận, phi chính phủ và bao gồm các thành viên có trình độ chuyên ngành. Tổ chức này chú trọng đến: tiêu chuẩn, giáo dục và các vấn đề về chính sách. Với trên 145 tổ chức thành viên và 65.000 thành viên cá nhân, ISOC bao gồm những con người cụ thể trong cộng đồng Internet. Mọi chi tiết có thể tìm thấy tại website của ISOC.\n",
      "Internet Society nằm ở gần thủ đô Washington, DC, Hoa Kỳ và Geneva, Thụy Sĩ. Số hội viên của nó bao gồm hơn 145 tổ chức thành viên và hơn 65.000 cá nhân. Thành viên còn có thể tự lập một chi nhánh của tổ chức tùy theo vị trí hoặc sở thích. Hiện nay tổ chức có tới 90 chi nhánh trên toàn thế giới.\n",
      "Bảo đảm, cổ vũ cho sự phát triển, mở rộng và sử dụng Internet được thuận lợi nhất cho mọi người trên toàn thế giới.\n",
      "Tiếng Việt\n",
      "Tiếng Việt được chính thức ghi nhận trong Hiến pháp nước Cộng hòa xã hội chủ nghĩa Việt Nam 2013, tại Chương I Điều 5 Mục 3, là ngôn ngữ quốc gia của Việt Nam . Tiếng Việt bao gồm cách phát âm tiếng Việt và chữ Quốc ngữ để viết. Tuy nhiên, hiện chưa có bất kỳ văn bản nào ở cấp nhà nước quy định \"giọng chuẩn\" và \"quốc tự\" của tiếng Việt . Hiện nay phần lớn các văn bản trong nước được viết theo những \"\"Quy định về chính tả tiếng Việt và về thuật ngữ tiếng Việt\" áp dụng cho các sách giáo khoa, báo và văn bản của ngành giáo dục\" nêu tại Quyết định của Bộ Giáo dục số 240/QĐ ngày 5 tháng 3 năm 1984 do những người thụ hưởng giáo dục đó sau này ra làm việc trong mọi lĩnh vực xã hội.\n",
      "Tiếng Việt cũng đã được công nhận là một ngôn ngữ dân tộc thiểu số tại Cộng hòa Séc.\n",
      "Tổ chức tiêu chuẩn hóa quốc tế đặt mã ngôn ngữ hai chữ cái cho tiếng Việt là \"vi\" (tiêu chuẩn ISO 639-1) và đặt mã ngôn ngữ ba chữ cái cho tiếng Việt là \"vie\" (tiêu chuẩn ISO 639-2) .\n",
      "Những ngôn ngữ này có chung một số từ vựng căn bản. Thí dụ, từ \"tay\" trong tiếng Việt tương đương trong tiếng Mường là \"thay\", trong tiếng Khmer là \"đay\" và trong tiếng Môn là \"tai\".\n",
      "3624432\n"
     ]
    }
   ],
   "source": [
    "# Xoá dòng trống\n",
    "data = [line for line in data if len(line) > 0]\n",
    "print(\"\\n\".join(data[:10]))\n",
    "print(len(data))"
   ]
  },
  {
   "cell_type": "code",
   "execution_count": 4,
   "metadata": {
    "colab": {
     "base_uri": "https://localhost:8080/"
    },
    "id": "nrQ5koXuv6e-",
    "outputId": "f7794676-3dea-4144-9ee1-a009c6a87ccf"
   },
   "outputs": [
    {
     "name": "stdout",
     "output_type": "stream",
     "text": [
      "Trang Chính\n",
      "Internet Society\n",
      "Internet Society hay ISOC là một tổ chức quốc tế hoạt động phi lợi nhuận, phi chính phủ và bao gồm các thành viên có trình độ chuyên ngành.\n",
      "Tổ chức này chú trọng đến: tiêu chuẩn, giáo dục và các vấn đề về chính sách.\n",
      "Với trên 145 tổ chức thành viên và 65.\n",
      "000 thành viên cá nhân, ISOC bao gồm những con người cụ thể trong cộng đồng Internet.\n",
      "Mọi chi tiết có thể tìm thấy tại website của ISOC.\n",
      "Internet Society nằm ở gần thủ đô Washington, DC, Hoa Kỳ và Geneva, Thụy Sĩ.\n",
      "Số hội viên của nó bao gồm hơn 145 tổ chức thành viên và hơn 65.\n",
      "000 cá nhân.\n",
      "7314542\n"
     ]
    }
   ],
   "source": [
    "# Tách câu\r\n",
    "import re\r\n",
    "new_data = []\r\n",
    "for i in range(len(data)):\r\n",
    "    if data[i] is not None:\r\n",
    "        new_data += re.split('((?<=[.?!]\")|((?<=[.?!])(?!\")))\\s*', data[i])\r\n",
    "data = new_data\r\n",
    "# Xoá dòng trống\r\n",
    "data = [line for line in data if line is not None and len(line) > 0]\r\n",
    "print(\"\\n\".join(data[:10]))\r\n",
    "print(len(data))"
   ]
  },
  {
   "cell_type": "code",
   "execution_count": 5,
   "metadata": {
    "colab": {
     "base_uri": "https://localhost:8080/"
    },
    "id": "BRqgxxJbvUtP",
    "outputId": "5d61d61b-8aa5-4fb5-f02a-2277aaf3863d"
   },
   "outputs": [
    {
     "name": "stdout",
     "output_type": "stream",
     "text": [
      "Trang Chính\n",
      "Internet Society\n",
      "Internet Society hay ISOC là một tổ chức quốc tế hoạt động phi lợi nhuận phi chính phủ và bao gồm các thành viên có trình độ chuyên ngành\n",
      "Tổ chức này chú trọng đến tiêu chuẩn giáo dục và các vấn đề về chính sách\n",
      "Với trên tổ chức thành viên và\n",
      "thành viên cá nhân ISOC bao gồm những con người cụ thể trong cộng đồng Internet\n",
      "Mọi chi tiết có thể tìm thấy tại website của ISOC\n",
      "Internet Society nằm ở gần thủ đô Washington DC Hoa Kỳ và Geneva Thụy Sĩ\n",
      "Số hội viên của nó bao gồm hơn tổ chức thành viên và hơn\n",
      "cá nhân\n",
      "7167310\n"
     ]
    }
   ],
   "source": [
    "# Chỉ giữ lại từ trong mỗi câu\r\n",
    "def extract_words(sentence, include_digits=False):\r\n",
    "    additional_pattern = ''\r\n",
    "    if include_digits:\r\n",
    "        additional_pattern = '0-9'\r\n",
    "    pattern = '[AĂÂÁẮẤÀẰẦẢẲẨÃẴẪẠẶẬĐEÊÉẾÈỀẺỂẼỄẸỆIÍÌỈĨỊ'+ \\\r\n",
    "            'OÔƠÓỐỚÒỒỜỎỔỞÕỖỠỌỘỢUƯÚỨÙỪỦỬŨỮỤỰYÝỲỶỸỴAĂÂÁẮẤÀẰẦẢẲẨÃẴẪẠẶẬ'+ \\\r\n",
    "            'ĐEÊÉẾÈỀẺỂẼỄẸỆIÍÌỈĨỊOÔƠÓỐỚÒỒỜỎỔỞÕỖỠỌỘỢUƯÚỨÙỪỦỬŨỮỤỰYÝỲỶỸỴ'+ \\\r\n",
    "            'AĂÂÁẮẤÀẰẦẢẲẨÃẴẪẠẶẬĐEÊÉẾÈỀẺỂẼỄẸỆIÍÌỈĨỊOÔƠÓỐỚÒỒỜỎỔỞÕỖỠỌỘỢ'+ \\\r\n",
    "            'UƯÚỨÙỪỦỬŨỮỤỰYÝỲỶỸỴAĂÂÁẮẤÀẰẦẢẲẨÃẴẪẠẶẬĐEÊÉẾÈỀẺỂẼỄẸỆIÍÌỈĨỊ'+ \\\r\n",
    "            'OÔƠÓỐỚÒỒỜỎỔỞÕỖỠỌỘỢUƯÚỨÙỪỦỬŨỮỤỰYÝỲỶỸỴAĂÂÁẮẤÀẰẦẢẲẨÃẴẪẠẶẬĐ'+ \\\r\n",
    "            'EÊÉẾÈỀẺỂẼỄẸỆIÍÌỈĨỊOÔƠÓỐỚÒỒỜỎỔỞÕỖỠỌỘỢUƯÚỨÙỪỦỬŨỮỤỰYÝỲỶỸỴ'+ \\\r\n",
    "            'AĂÂÁẮẤÀẰẦẢẲẨÃẴẪẠẶẬĐEÊÉẾÈỀẺỂẼỄẸỆIÍÌỈĨỊOÔƠÓỐỚÒỒỜỎỔỞÕỖỠỌỘỢ'+ \\\r\n",
    "            'UƯÚỨÙỪỦỬŨỮỤỰYÝỲỶỸỴA-Z' + additional_pattern + ']+'\r\n",
    "    indices = []\r\n",
    "    words = []\r\n",
    "    for m in re.finditer(pattern, sentence,  re.IGNORECASE):\r\n",
    "        words.append(m.group(0))\r\n",
    "        indices.append((m.start(0), m.end(0)))\r\n",
    "    return words, indices\r\n",
    "\r\n",
    "for i in range(len(data)):\r\n",
    "    words, indices = extract_words(data[i], include_digits=False)\r\n",
    "    da\n",
    "ta[i] = \" \".join(words)\r\n",
    "# Xoá dòng trống\r\n",
    "data = [line for line in data if len(line) > 0]\r\n",
    "print(\"\\n\".join(data[:10]))\r\n",
    "print(len(data))"
   ]
  },
  {
   "cell_type": "code",
   "execution_count": 6,
   "metadata": {
    "colab": {
     "base_uri": "https://localhost:8080/"
    },
    "id": "8bxFXjq9viSQ",
    "outputId": "10c9963f-b149-4e18-b0de-274d3184f136"
   },
   "outputs": [
    {
     "name": "stdout",
     "output_type": "stream",
     "text": [
      "trang chính\n",
      "internet society\n",
      "internet society hay isoc là một tổ chức quốc tế hoạt động phi lợi nhuận phi chính phủ và bao gồm các thành viên có trình độ chuyên ngành\n",
      "tổ chức này chú trọng đến tiêu chuẩn giáo dục và các vấn đề về chính sách\n",
      "với trên tổ chức thành viên và\n",
      "thành viên cá nhân isoc bao gồm những con người cụ thể trong cộng đồng internet\n",
      "mọi chi tiết có thể tìm thấy tại website của isoc\n",
      "internet society nằm ở gần thủ đô washington dc hoa kỳ và geneva thụy sĩ\n",
      "số hội viên của nó bao gồm hơn tổ chức thành viên và hơn\n",
      "cá nhân\n",
      "7167310\n"
     ]
    }
   ],
   "source": [
    "# Chuyển sang chữ thường\r\n",
    "data = [line.lower() for line in data]\r\n",
    "print(\"\\n\".join(data[:10]))\r\n",
    "print(len(data))"
   ]
  },
  {
   "cell_type": "code",
   "execution_count": 7,
   "metadata": {
    "colab": {
     "base_uri": "https://localhost:8080/"
    },
    "id": "8sg7UNgayNHJ",
    "outputId": "2bcc3d7d-e88a-40b1-c724-4023ce22f9ed"
   },
   "outputs": [
    {
     "name": "stdout",
     "output_type": "stream",
     "text": [
      "internet society hay isoc là một tổ chức quốc tế hoạt động phi lợi nhuận phi chính phủ và bao gồm các thành viên có trình độ chuyên ngành\n",
      "tổ chức này chú trọng đến tiêu chuẩn giáo dục và các vấn đề về chính sách\n",
      "thành viên cá nhân isoc bao gồm những con người cụ thể trong cộng đồng internet\n",
      "mọi chi tiết có thể tìm thấy tại website của isoc\n",
      "internet society nằm ở gần thủ đô washington dc hoa kỳ và geneva thụy sĩ\n",
      "số hội viên của nó bao gồm hơn tổ chức thành viên và hơn\n",
      "thành viên còn có thể tự lập một chi nhánh của tổ chức tùy theo vị trí hoặc sở thích\n",
      "hiện nay tổ chức có tới chi nhánh trên toàn thế giới\n",
      "bảo đảm cổ vũ cho sự phát triển mở rộng và sử dụng internet được thuận lợi nhất cho mọi người trên toàn thế giới\n",
      "tiếng việt được chính thức ghi nhận trong hiến pháp nước cộng hòa xã hội chủ nghĩa việt nam tại chương i điều mục là ngôn ngữ quốc gia của việt nam\n",
      "4315334\n"
     ]
    }
   ],
   "source": [
    "new_data = []\r\n",
    "for i in range(len(data)):\r\n",
    "    n_words = len(data[i].split(\" \"))\r\n",
    "    if n_words >= 10 and n_words <= 200:\r\n",
    "        new_data.append(data[i])\r\n",
    "data = new_data\r\n",
    "print(\"\\n\".join(data[:10]))\r\n",
    "print(len(data))"
   ]
  },
  {
   "cell_type": "markdown",
   "metadata": {
    "id": "3tS7-h8uNJh8"
   },
   "source": [
    "## 2. Chuẩn hoá dấu câu"
   ]
  },
  {
   "cell_type": "code",
   "execution_count": 8,
   "metadata": {
    "colab": {
     "base_uri": "https://localhost:8080/"
    },
    "id": "OdE9domENRTC",
    "outputId": "49c6562b-20b9-4559-dc87-eecc355394e2"
   },
   "outputs": [
    {
     "name": "stdout",
     "output_type": "stream",
     "text": [
      "Downloading...\n",
      "From: https://drive.google.com/uc?id=1M2tCWPD2aCo8OXfOEuEmF5XHzE1OJDWK\n",
      "To: /home/vietanhdev/Works/AIDr/vn-aidr/model_utils/vn_accent/preprocess_data/tone_dict.json\n",
      "100%|████████████████████████████████████████| 885k/885k [00:00<00:00, 3.26MB/s]\n"
     ]
    }
   ],
   "source": [
    "!gdown --id \"1M2tCWPD2aCo8OXfOEuEmF5XHzE1OJDWK\""
   ]
  },
  {
   "cell_type": "code",
   "execution_count": 9,
   "metadata": {
    "id": "5Y-JnVL5Pa7I"
   },
   "outputs": [],
   "source": [
    "import json\r\n",
    "\r\n",
    "def remove_tone_line(utf8_str):\r\n",
    "    intab_l = \"ạảãàáâậầấẩẫăắằặẳẵóòọõỏôộổỗồốơờớợởỡéèẻẹẽêếềệểễúùụủũưựữửừứíìịỉĩýỳỷỵỹđ\"\r\n",
    "    intab_u = \"ẠẢÃÀÁÂẬẦẤẨẪĂẮẰẶẲẴÓÒỌÕỎÔỘỔỖỒỐƠỜỚỢỞỠÉÈẺẸẼÊẾỀỆỂỄÚÙỤỦŨƯỰỮỬỪỨÍÌỊỈĨÝỲỶỴỸĐ\"\r\n",
    "    intab = [ch for ch in str(intab_l+intab_u)]\r\n",
    "\r\n",
    "    outtab_l = \"a\"*17 + \"o\"*17 + \"e\"*11 + \"u\"*11 + \"i\"*5 + \"y\"*5 + \"d\"\r\n",
    "    outtab_u = \"A\"*17 + \"O\"*17 + \"E\"*11 + \"U\"*11 + \"I\"*5 + \"Y\"*5 + \"D\"\r\n",
    "    outtab = outtab_l + outtab_u\r\n",
    "\r\n",
    "    r = re.compile(\"|\".join(intab))\r\n",
    "    replaces_dict = dict(zip(intab, outtab))\r\n",
    "\r\n",
    "    return r.sub(lambda m: replaces_dict[m.group(0)], utf8_str)\r\n",
    "\r\n",
    "\r\n",
    "def normalize_tone_line(utf8_str):\r\n",
    "    intab_l = \"áàảãạâấầẩẫậăắằẳẵặđèéẻẽẹêếềểễệíìỉĩịóòỏõọôốồổỗộơớờởỡợúùủũụưứừửữựýỳỷỹỵ\"\r\n",
    "    intab_u = \"ÁÀẢÃẠÂẤẦẨẪẬĂẮẰẲẴẶĐÈÉẺẼẸÊẾỀỂỄỆÍÌỈĨỊÓÒỎÕỌÔỐỒỔỖỘƠỚỜỞỠỢÚÙỦŨỤƯỨỪỬỮỰÝỲỶỸỴ\"\r\n",
    "    intab = [ch for ch in str(intab_l + intab_u)]\r\n",
    "\r\n",
    "    outtab_l = [\r\n",
    "        \"a1\", \"a2\", \"a3\", \"a4\", \"a5\",\r\n",
    "        \"a6\", \"a61\", \"a62\", \"a63\", \"a64\", \"a65\",\r\n",
    "        \"a8\", \"a81\", \"a82\", \"a83\", \"a84\", \"a85\",\r\n",
    "        \"d9\",\r\n",
    "        \"e1\", \"e2\", \"e3\", \"e4\", \"e5\",\r\n",
    "        \"e6\", \"e61\", \"e62\", \"e63\", \"e64\", \"e65\",\r\n",
    "        \"i1\", \"i2\", \"i3\", \"i4\", \"i5\",\r\n",
    "        \"o1\", \"o2\", \"o3\", \"o4\", \"o5\",\r\n",
    "        \"o6\", \"a61\", \"o62\", \"o63\", \"o64\", \"o65\",\r\n",
    "        \"o7\", \"o71\", \"o72\", \"o73\", \"o74\", \"o75\",\r\n",
    "        \"u1\", \"u2\", \"u3\", \"u4\", \"u5\",\r\n",
    "        \"u7\", \"u71\", \"u72\", \"u73\", \"u74\", \"u75\",\r\n",
    "        \"y1\", \"y2\", \"y3\", \"y4\", \"y5\",\r\n",
    "    ]\r\n",
    "\r\n",
    "    outtab_u = [\r\n",
    "        \"A1\", \"A2\", \"A3\", \"A4\", \"A5\",\r\n",
    "        \"A6\", \"A61\", \"A62\", \"A63\", \"A64\", \"A65\",\r\n",
    "        \"A8\", \"A81\", \"A82\", \"A83\", \"A84\", \"A85\",\r\n",
    "        \"D9\",\r\n",
    "        \"E1\", \"E2\", \"E3\", \"E4\", \"E5\",\r\n",
    "        \"E6\", \"E61\", \"E62\", \"E63\", \"E64\", \"E65\",\r\n",
    "        \"I1\", \"I2\", \"I3\", \"I4\", \"I5\",\r\n",
    "        \"O1\", \"O2\", \"O3\", \"O4\", \"O5\",\r\n",
    "        \"O6\", \"O61\", \"O62\", \"O63\", \"O64\", \"O65\",\r\n",
    "        \"O7\", \"O71\", \"O72\", \"O73\", \"O74\", \"O75\",\r\n",
    "        \"U1\", \"U2\", \"U3\", \"U4\", \"U5\",\r\n",
    "        \"U7\", \"U71\", \"U72\", \"U73\", \"U74\", \"U75\",\r\n",
    "        \"Y1\", \"Y2\", \"Y3\", \"Y4\", \"Y5\",\r\n",
    "    ]\r\n",
    "\r\n",
    "    r = re.compile(\"|\".join(intab))\r\n",
    "    replaces_dict = dict(zip(intab, outtab_l + outtab_u))\r\n",
    "\r\n",
    "    return r.sub(lambda m: replaces_dict[m.group(0)], utf8_str)\r\n",
    "\r\n",
    "def simplify(word):\r\n",
    "    \"\"\"\r\n",
    "    normalize and simplify a vni word:\r\n",
    "    * move tone digit to the end\r\n",
    "    * return only digits\r\n",
    "    * return 0 if there is no digit\r\n",
    "    \"\"\"\r\n",
    "    if word.isalpha(): \r\n",
    "        return '0'\r\n",
    "    ret = ''\r\n",
    "    tone = ''\r\n",
    "    for letter in word:\r\n",
    "        if '1' <= letter <= '9':\r\n",
    "            if '1' <= letter <= '5':\r\n",
    "                # assert len(tone) == 0, '{}, {}'.format(tone, word)\r\n",
    "                if tone != '':\r\n",
    "                    return '#'  # ignore this word\r\n",
    "                tone = letter\r\n",
    "            else:\r\n",
    "                ret += letter\r\n",
    "    return ret + tone\r\n",
    "\r\n",
    "\r\n",
    "def extract_tone(line):\r\n",
    "    \"\"\"\r\n",
    "    Process a line\r\n",
    "    :param line:\r\n",
    "    :return: no_tone_line, no_tone_words, simplified_words\r\n",
    "    \"\"\"\r\n",
    "    utf8_line = line.strip('\\n')\r\n",
    "\r\n",
    "    no_tone_line_pre = remove_tone_line(utf8_line)\r\n",
    "    normalized_line_pre = normalize_tone_line(utf8_line)\r\n",
    "\r\n",
    "    no_tone_words, _ = extract_words(no_tone_line_pre, include_digits=True)\r\n",
    "    normalized_words, _ = extract_words(normalized_line_pre, include_digits=True)\r\n",
    "\r\n",
    "    assert len(no_tone_words) == len(normalized_words)\r\n",
    "\r\n",
    "    filtered_no_tone_words = []\r\n",
    "    simplified_words = []\r\n",
    "    for i, word in enumerate(no_tone_words):\r\n",
    "        if not word.isalpha():\r\n",
    "            continue\r\n",
    "        simplified_word = simplify(normalized_words[i])\r\n",
    "        filtered_no_tone_words.append(word)\r\n",
    "        simplified_words.append(simplified_word)\r\n",
    "\r\n",
    "    return filtered_no_tone_words, simplified_words\r\n",
    "\r\n",
    "\r\n",
    "def standarize_tone_word(word, tone_dict):\r\n",
    "    notone_word, tone = extract_tone(word)\r\n",
    "    notone_word = notone_word[0]\r\n",
    "    tone = tone[0]\r\n",
    "    std_form = notone_word + tone\r\n",
    "    if std_form in tone_dict:\r\n",
    "        return tone_dict[std_form]\r\n",
    "    else:\r\n",
    "        # print(\"MISSING:\", word)\r\n",
    "        return word\r\n",
    "\r\n",
    "with open(\"tone_dict.json\", \"r\") as f:\r\n",
    "    tone_dict = json.load(f)\r\n",
    "def standarize_tone_str(text):\r\n",
    "    text = text.lower()\r\n",
    "    words = text.split(\" \")\r\n",
    "    for i in range(len(words)):\r\n",
    "        words[i] = standarize_tone_word(words[i], tone_dict)\r\n",
    "    text = \" \".join(words)\r\n",
    "    return text"
   ]
  },
  {
   "cell_type": "code",
   "execution_count": 10,
   "metadata": {
    "colab": {
     "base_uri": "https://localhost:8080/"
    },
    "id": "bdpefphjNtqu",
    "outputId": "95fe6781-7aef-44d7-ff18-6cb16940ba28"
   },
   "outputs": [
    {
     "name": "stderr",
     "output_type": "stream",
     "text": [
      "100%|██████████| 4315334/4315334 [24:17<00:00, 2960.64it/s]\n"
     ]
    },
    {
     "name": "stdout",
     "output_type": "stream",
     "text": [
      "internet society hay isoc là một tổ chức quốc tế hoạt động phi lợi nhuận phi chính phủ và bao gồm các thành viên có trình độ chuyên ngành\n",
      "tổ chức này chú trọng đến tiêu chuẩn giáo dục và các vấn đề về chính sách\n",
      "thành viên cá nhân isoc bao gồm những con người cụ thể trong cộng đồng internet\n",
      "mọi chi tiết có thể tìm thấy tại website của isoc\n",
      "internet society nằm ở gần thủ đô washington dc hoa kỳ và geneva thụy sĩ\n",
      "số hội viên của nó bao gồm hơn tổ chức thành viên và hơn\n",
      "thành viên còn có thể tự lập một chi nhánh của tổ chức tùy theo vị trí hoặc sở thích\n",
      "hiện nay tổ chức có tới chi nhánh trên toàn thế giới\n",
      "bảo đảm cổ vũ cho sự phát triển mở rộng và sử dụng internet được thuận lợi nhất cho mọi người trên toàn thế giới\n",
      "tiếng việt được chính thức ghi nhận trong hiến pháp nước cộng hòa xã hội chủ nghĩa việt nam tại chương i điều mục là ngôn ngữ quốc gia của việt nam\n",
      "4315334\n"
     ]
    }
   ],
   "source": [
    "import json\r\n",
    "from tqdm import tqdm\r\n",
    "from multiprocessing import Pool\r\n",
    "\r\n",
    "# Chuẩn hoá dấu\r\n",
    "with Pool(12) as p:\r\n",
    "    data = list(tqdm(p.imap(standarize_tone_str, data), total=len(data)))\r\n",
    "print(\"\\n\".join(data[:10]))\r\n",
    "print(len(data))"
   ]
  },
  {
   "cell_type": "markdown",
   "metadata": {
    "id": "KYEcjlOcNOMT"
   },
   "source": [
    "## 3. Ghi ra output"
   ]
  },
  {
   "cell_type": "code",
   "execution_count": 11,
   "metadata": {
    "id": "TydcCpF7yZz2"
   },
   "outputs": [
    {
     "name": "stdout",
     "output_type": "stream",
     "text": [
      "4315334\n"
     ]
    }
   ],
   "source": [
    "with open('wikipedia.txt', 'w', encoding='utf-8') as f:\r\n",
    "    print(len(data))\r\n",
    "    f.write(\"\\n\".join(data))"
   ]
  },
  {
   "cell_type": "code",
   "execution_count": null,
   "metadata": {
    "id": "9EMlKElzy-Jt"
   },
   "outputs": [],
   "source": [
    "!cp wikipedia.txt /content/drive/MyDrive"
   ]
  },
  {
   "cell_type": "code",
   "execution_count": null,
   "metadata": {
    "id": "4AA49I9z1twu"
   },
   "outputs": [],
   "source": []
  }
 ],
 "metadata": {
  "colab": {
   "collapsed_sections": [],
   "name": "Preprocess Thêm dấu tiếng Việt - Wikipedia.ipynb",
   "provenance": [],
   "toc_visible": true
  },
  "kernelspec": {
   "display_name": "Python 3",
   "language": "python",
   "name": "python3"
  },
  "language_info": {
   "codemirror_mode": {
    "name": "ipython",
    "version": 3
   },
   "file_extension": ".py",
   "mimetype": "text/x-python",
   "name": "python",
   "nbconvert_exporter": "python",
   "pygments_lexer": "ipython3",
   "version": "3.7.0"
  }
 },
 "nbformat": 4,
 "nbformat_minor": 4
}
